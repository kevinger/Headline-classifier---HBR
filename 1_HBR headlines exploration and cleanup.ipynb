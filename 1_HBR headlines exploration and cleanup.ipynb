{
 "cells": [
  {
   "cell_type": "code",
   "execution_count": 30,
   "metadata": {
    "collapsed": true
   },
   "outputs": [],
   "source": [
    "import pandas as pd\n",
    "import numpy as np\n",
    "\n",
    "from nltk import word_tokenize\n",
    "from nltk import FreqDist\n",
    "from nltk.corpus import stopwords\n",
    "from nltk.tokenize import RegexpTokenizer\n",
    "import nltk"
   ]
  },
  {
   "cell_type": "markdown",
   "metadata": {},
   "source": [
    "## Let's explore our headlines"
   ]
  },
  {
   "cell_type": "code",
   "execution_count": 31,
   "metadata": {},
   "outputs": [
    {
     "name": "stdout",
     "output_type": "stream",
     "text": [
      "(5000, 2)\n"
     ]
    },
    {
     "data": {
      "text/html": [
       "<div>\n",
       "<style>\n",
       "    .dataframe thead tr:only-child th {\n",
       "        text-align: right;\n",
       "    }\n",
       "\n",
       "    .dataframe thead th {\n",
       "        text-align: left;\n",
       "    }\n",
       "\n",
       "    .dataframe tbody tr th {\n",
       "        vertical-align: top;\n",
       "    }\n",
       "</style>\n",
       "<table border=\"1\" class=\"dataframe\">\n",
       "  <thead>\n",
       "    <tr style=\"text-align: right;\">\n",
       "      <th></th>\n",
       "      <th>Page Title</th>\n",
       "      <th>Topic</th>\n",
       "    </tr>\n",
       "  </thead>\n",
       "  <tbody>\n",
       "    <tr>\n",
       "      <th>0</th>\n",
       "      <td>What So Many People Don’t Get About the U.S. W...</td>\n",
       "      <td>Demographics</td>\n",
       "    </tr>\n",
       "    <tr>\n",
       "      <th>1</th>\n",
       "      <td>Why Do So Many Incompetent Men Become Leaders?</td>\n",
       "      <td>Leadership</td>\n",
       "    </tr>\n",
       "    <tr>\n",
       "      <th>2</th>\n",
       "      <td>How to Write a Cover Letter</td>\n",
       "      <td>Hiring</td>\n",
       "    </tr>\n",
       "    <tr>\n",
       "      <th>3</th>\n",
       "      <td>The Most Important Leadership Competencies, Ac...</td>\n",
       "      <td>Leadership</td>\n",
       "    </tr>\n",
       "    <tr>\n",
       "      <th>4</th>\n",
       "      <td>What Is Disruptive Innovation?</td>\n",
       "      <td>Disruptive innovation</td>\n",
       "    </tr>\n",
       "  </tbody>\n",
       "</table>\n",
       "</div>"
      ],
      "text/plain": [
       "                                          Page Title                  Topic\n",
       "0  What So Many People Don’t Get About the U.S. W...           Demographics\n",
       "1     Why Do So Many Incompetent Men Become Leaders?             Leadership\n",
       "2                        How to Write a Cover Letter                 Hiring\n",
       "3  The Most Important Leadership Competencies, Ac...             Leadership\n",
       "4                     What Is Disruptive Innovation?  Disruptive innovation"
      ]
     },
     "execution_count": 31,
     "metadata": {},
     "output_type": "execute_result"
    }
   ],
   "source": [
    "#Load headlines and see a few\n",
    "data = pd.read_csv(\"headlines.csv\")\n",
    "print data.shape\n",
    "data.head()"
   ]
  },
  {
   "cell_type": "code",
   "execution_count": 32,
   "metadata": {
    "collapsed": true
   },
   "outputs": [],
   "source": [
    "#Some text functions\n",
    "\n",
    "#Takes a list of words, remove common ones\n",
    "def remove_stop_words(tokens):\n",
    "    stopwords = nltk.corpus.stopwords.words('english')\n",
    "    content = [w for w in tokens if w.lower() not in stopwords]\n",
    "    return content\n",
    "\n",
    "#Takes a list of words, lowercases them\n",
    "def lowercase_tokens(tokens):\n",
    "    list_of_words = []\n",
    "    for a in tokens:\n",
    "        a = a.lower()\n",
    "        list_of_words.append(a)\n",
    "    return list_of_words"
   ]
  },
  {
   "cell_type": "code",
   "execution_count": 33,
   "metadata": {},
   "outputs": [
    {
     "name": "stdout",
     "output_type": "stream",
     "text": [
      "The most common words in our headlines are:\n",
      "[(u'hbr', 480), (u'work', 332), (u'people', 164), (u'make', 158), (u'new', 155), (u'get', 149), (u'company', 143), (u'companies', 141), (u'employees', 141), (u'leaders', 126), (u'business', 126), (u'strategy', 124), (u'team', 123), (u'need', 119), (u'ways', 118), (u'data', 116), (u'better', 109), (u'best', 101), (u'job', 99), (u'right', 98), (u'change', 93), (u'time', 92), (u'digital', 91), (u'way', 89), (u'good', 89), (u'leadership', 89), (u'innovation', 88), (u'great', 88), (u'know', 88), (u'care', 87), (u'health', 87), (u'women', 85), (u'boss', 82), (u'like', 77), (u'big', 76), (u'3', 74), (u'stop', 74), (u'research', 72), (u'really', 71), (u'things', 70), (u'management', 70), (u'culture', 69), (u'employee', 69), (u'managers', 68), (u'one', 68), (u'making', 67), (u'4', 66), (u'think', 64), (u'5', 62), (u'career', 62)]\n"
     ]
    }
   ],
   "source": [
    "#Count the most common words in headlines\n",
    "\n",
    "#Concatenate headlines into one string\n",
    "text = data['Page Title'].str.cat(sep=\" \")\n",
    "\n",
    "#Encode as utf-8 \n",
    "text = text.decode(\"utf-8\")\n",
    "\n",
    "#Create tokenizer to remove punctuation and numbers\n",
    "tokenizer = RegexpTokenizer(r'\\w+')\n",
    "\n",
    "#Tokenize into words, lowercase, remove stop words\n",
    "tokens = tokenizer.tokenize(text)\n",
    "tokens = lowercase_tokens(tokens)\n",
    "tokens = remove_stop_words(tokens)\n",
    "\n",
    "#Print common words\n",
    "fdist = FreqDist(tokens)\n",
    "print \"The most common words in our headlines are:\"\n",
    "print fdist.most_common(50)\n"
   ]
  },
  {
   "cell_type": "markdown",
   "metadata": {},
   "source": [
    "## The exploration showed that lots of headlines have \"HBR\" in them. We need to fix that, look for similar issues, and then get rid of duplicates"
   ]
  },
  {
   "cell_type": "code",
   "execution_count": 34,
   "metadata": {},
   "outputs": [
    {
     "name": "stdout",
     "output_type": "stream",
     "text": [
      "(477, 2)\n",
      "(0, 2)\n",
      "Reinventing Performance Management - HBR\n",
      "Where the Digital Economy Is Moving the Fastest - HBR\n",
      "How to Use Your LinkedIn Profile to Power a Career Transition - HBR\n",
      "Why We Love to Hate HR…and What HR Can Do About It - HBR\n",
      "What Parents Should Tell Their Kids About Finding a Career - HBR\n",
      "Setting the Record Straight on Switching Jobs - HBR\n",
      "How to Know If You Talk Too Much - HBR\n",
      "How to Get Employees Excited to Do Their Work - HBR\n",
      "5 Rules for a Vacation that’s Truly Worth It - HBR\n",
      "75% of Cross-Functional Teams Are Dysfunctional - HBR\n",
      "Mindfulness Can Literally Change Your Brain - HBR\n",
      "The One Thing About Your Spouse’s Personality That Really Affects Your Career - HBR\n",
      "The Top Complaints from Employees About Their Leaders - HBR\n",
      "{title} - HBR\n",
      "How the Navy SEALs Train for Leadership Excellence - HBR\n",
      "Your Late-Night Emails Are Hurting Your Team - HBR\n",
      "5 Signs It’s Time for a New Job - HBR\n",
      "What You Miss When You Take Notes on Your Laptop - HBR\n",
      "The 15 Diseases of Leadership, According to Pope Francis - HBR\n",
      "How to Write a Resume That Stands Out - HBR\n"
     ]
    }
   ],
   "source": [
    "#Subset headlines that have \"HBR\" and other issues in them to see how they look\n",
    "\n",
    "hbr = data[data['Page Title'].str.contains(\"HBR\")]\n",
    "print hbr.shape\n",
    "\n",
    "hbr2 = data[data['Page Title'].str.contains(\"Harvard Business Review\")]\n",
    "print hbr2.shape\n",
    "\n",
    "for a in hbr['Page Title'][0:20]:\n",
    "    print a\n",
    "    "
   ]
  },
  {
   "cell_type": "code",
   "execution_count": 35,
   "metadata": {},
   "outputs": [
    {
     "name": "stdout",
     "output_type": "stream",
     "text": [
      "(15, 3)\n"
     ]
    }
   ],
   "source": [
    "#Fix headline formatting and remove duplicates\n",
    "data['Clean Title'] = data['Page Title'].str.replace(' - HBR', '')\n",
    "\n",
    "#Check for remaining 'HBR' mentions\n",
    "hbr = data[data['Clean Title'].str.contains(\"HBR\")]\n",
    "print hbr.shape\n",
    "hbr.head()\n",
    "\n",
    "#We've cut 400+ headlines down to 15. Now let's just remove \"HBR\" from those remaining heds\n",
    "data['Clean Title'] = data['Clean Title'].str.replace('HBR', '')"
   ]
  },
  {
   "cell_type": "code",
   "execution_count": 36,
   "metadata": {},
   "outputs": [
    {
     "data": {
      "text/plain": [
       "(4585, 3)"
      ]
     },
     "execution_count": 36,
     "metadata": {},
     "output_type": "execute_result"
    }
   ],
   "source": [
    "#Drop duplicate headlines\n",
    "data = data.drop_duplicates(subset=\"Clean Title\")\n",
    "data.shape\n"
   ]
  },
  {
   "cell_type": "markdown",
   "metadata": {},
   "source": [
    "## We've got ~4500 cleaned up headlines left. Time to save them to a new csv"
   ]
  },
  {
   "cell_type": "code",
   "execution_count": 37,
   "metadata": {
    "collapsed": true
   },
   "outputs": [],
   "source": [
    "#data['Clean Title'].to_csv(\"clean_headlines.csv\",header=True,index=False)"
   ]
  },
  {
   "cell_type": "markdown",
   "metadata": {},
   "source": [
    "## To add to the dataset, add social media posts from Twitter & Facebook"
   ]
  },
  {
   "cell_type": "code",
   "execution_count": 38,
   "metadata": {},
   "outputs": [
    {
     "name": "stdout",
     "output_type": "stream",
     "text": [
      "(12573, 47)\n",
      "Index([u'Account Name', u'Account Type', u'Created By', u'Publish Date',\n",
      "       u'Time (UTC)', u'Message', u'Publish Status', u'Labels', u'Clicks',\n",
      "       u'Retweets/Repins/Shares', u'Current Favorites/Likes/+1s', u'Comments',\n",
      "       u'Reach', u'Lifetime Likes', u'Lifetime Love', u'Lifetime Wow',\n",
      "       u'Lifetime Haha', u'Lifetime Sad', u'Lifetime Angry', u'Link', u'Title',\n",
      "       u'Link to Post', u'Deleted', u'Post Type', u'Breaking News',\n",
      "       u'Targeting Info', u'Deleted By', u'Fans/Followers',\n",
      "       u'Post Video Avg Time Watched', u'Post Video Views Organic Unique',\n",
      "       u'Post Video Views Autoplayed', u'Post Video Views Clicked To Play',\n",
      "       u'Post Video Views Organic', u'Post Video Complete Views Organic',\n",
      "       u'Post Video Complete Views Organic Unique',\n",
      "       u'Post Video Complete Views 30S',\n",
      "       u'Post Video Complete Views 30S Unique',\n",
      "       u'Post Video Complete Views 30S Autoplayed',\n",
      "       u'Post Video Complete Views 30S Clicked To Play',\n",
      "       u'Post Video Complete Views 30S Organic', u'Link Clicks Lifetime',\n",
      "       u'Other Clicks Lifetime', u'Instagram Impressions', u'Instagram Reach',\n",
      "       u'Instagram Engagement', u'Instagram Saved', u'Instagram Video Views'],\n",
      "      dtype='object')\n"
     ]
    },
    {
     "data": {
      "text/plain": [
       "count                                 12571\n",
       "unique                                   20\n",
       "top       nicole.torres@harvardbusiness.org\n",
       "freq                                   4082\n",
       "Name: Created By, dtype: object"
      ]
     },
     "execution_count": 38,
     "metadata": {},
     "output_type": "execute_result"
    }
   ],
   "source": [
    "social = pd.read_csv(\"all_tweets_fb_2013-nov18.csv\")\n",
    "print social.shape\n",
    "print social.columns\n",
    "social['Created By'].describe()"
   ]
  },
  {
   "cell_type": "code",
   "execution_count": 39,
   "metadata": {},
   "outputs": [
    {
     "data": {
      "text/plain": [
       "(9895, 47)"
      ]
     },
     "execution_count": 39,
     "metadata": {},
     "output_type": "execute_result"
    }
   ],
   "source": [
    "#Limit the dataset to tweets and Facebook posts by HBR editors, as opposed to marketing, etc.\n",
    "\n",
    "editors = ['nicole.torres@harvardbusiness.org','alexandra.kephart@hbr.org', 'Ramsey.Khabbaz@harvardbusiness.org',\n",
    "     'paige.cohen@hbr.org','nicole.blank@hbr.org','ggavett@hbr.org','etruxler@hbr.org','awieckowski@hbr.org',\n",
    "     'duygu.mullin@hbr.org','walter.frick@harvardbusiness.org']\n",
    "social = social[social['Created By'].isin(editors)]\n",
    "social.shape"
   ]
  },
  {
   "cell_type": "code",
   "execution_count": 40,
   "metadata": {},
   "outputs": [
    {
     "data": {
      "text/plain": [
       "<bound method Series.head of 3        American firms like Google, Amazon, eBay, and ...\n",
       "4        Diversity goes beyond gender, race, and age. I...\n",
       "5        How do you keep a large, dispersed organizatio...\n",
       "6        Give yourself time to be creative — even when ...\n",
       "7        Seek some advice for better teamwork. On the l...\n",
       "8              Boosting morale on an underperforming team.\n",
       "10       A wealth of research shows that female leaders...\n",
       "11       If you’re thinking about starting a side gig, ...\n",
       "12       On the latest episode of HBR’s advice podcast ...\n",
       "13       Before your company jumps on the data science ...\n",
       "14       Before your company jumps on the data science ...\n",
       "16       We should subject societally impactful algorit...\n",
       "17       Research shows that personalities play a bigge...\n",
       "18       Which one would you choose? Help us name an up...\n",
       "19       We can’t help that our minds crave distraction...\n",
       "22       Many of us feel overwhelmed, but are we busy w...\n",
       "23       Another recession is bound to hit. Here’s how ...\n",
       "24       The constant, subtle forms of discrimination t...\n",
       "25       There is no “I” in team. But that’s where you ...\n",
       "26       The cities driving startup innovation around t...\n",
       "27       Hire people who have the qualities to succeed ...\n",
       "28       Cyber Monday is extended! Last day to save 40%...\n",
       "29       For blockchain to reach its full potential, we...\n",
       "30       Several studies show that setting easy goals c...\n",
       "31       When announcing organizational change, resist ...\n",
       "33       Is your teamwork not working? In the newest ep...\n",
       "34       AI can be a great decision-making tool, but on...\n",
       "35       Evidence that green bonds work for the compani...\n",
       "36       Give the gift of success this holiday season. ...\n",
       "37       How to make sure your company’s customers are ...\n",
       "                               ...                        \n",
       "12471    Pelé on leadership and love of the game: http:...\n",
       "12472    Your customers now turn to their smartphones f...\n",
       "12473        And when to schedule that dull staff meeting.\n",
       "12475    Why our approach to saving for retirement is a...\n",
       "12499    A primer on three types of analytics - and whe...\n",
       "12500    \"The history of the cubicle is a story of good...\n",
       "12501    Creating great teams isn't an art. It's scienc...\n",
       "12521    What type of constructive criticism is best in...\n",
       "12522      How to approach six tricky workplace scenarios.\n",
       "12523    Why smart people struggle with strategy: http:...\n",
       "12524    Start by talking about impact, not financial p...\n",
       "12525    Help us make our video better! Watch this inte...\n",
       "12526    Why negative comments stick with us so much lo...\n",
       "12527    \"Never let them see you cry\" is the wrong advice.\n",
       "12528    Two for all the dads out there (and the people...\n",
       "12529    Memorizing a list of etiquette rules doesn't c...\n",
       "12530    Traditional thinking pits work against the res...\n",
       "12539    Take our new assessment to find out - and lear...\n",
       "12540    Join us today at 12 pm EDT for a free webinar ...\n",
       "12541    \"Think of money not as a superficial scoreboar...\n",
       "12543    Are You Paying It Forward to the Next Generation?\n",
       "12554    How to minimize the drama and keep your team o...\n",
       "12555    Did you miss yesterday's episode of Oprah's Su...\n",
       "12556                 Hint: Take a cue from manufacturing.\n",
       "12557    \"There were two things I avoided. I didn't do ...\n",
       "12558    Which one would you choose? Help us name an up...\n",
       "12559    Four things to consider before you send out th...\n",
       "12560    Nine building blocks. One page. A quick-and-di...\n",
       "12561    Research on the kinds breaks help with work-re...\n",
       "12562    \"The organization must learn to think of itsel...\n",
       "Name: Message, Length: 9895, dtype: object>"
      ]
     },
     "execution_count": 40,
     "metadata": {},
     "output_type": "execute_result"
    }
   ],
   "source": [
    "social['Message'].head"
   ]
  },
  {
   "cell_type": "code",
   "execution_count": 41,
   "metadata": {},
   "outputs": [
    {
     "name": "stdout",
     "output_type": "stream",
     "text": [
      "(14480, 1)\n"
     ]
    },
    {
     "data": {
      "text/html": [
       "<div>\n",
       "<style>\n",
       "    .dataframe thead tr:only-child th {\n",
       "        text-align: right;\n",
       "    }\n",
       "\n",
       "    .dataframe thead th {\n",
       "        text-align: left;\n",
       "    }\n",
       "\n",
       "    .dataframe tbody tr th {\n",
       "        vertical-align: top;\n",
       "    }\n",
       "</style>\n",
       "<table border=\"1\" class=\"dataframe\">\n",
       "  <thead>\n",
       "    <tr style=\"text-align: right;\">\n",
       "      <th></th>\n",
       "      <th>Clean Title</th>\n",
       "    </tr>\n",
       "  </thead>\n",
       "  <tbody>\n",
       "    <tr>\n",
       "      <th>0</th>\n",
       "      <td>What So Many People Don’t Get About the U.S. W...</td>\n",
       "    </tr>\n",
       "    <tr>\n",
       "      <th>1</th>\n",
       "      <td>Why Do So Many Incompetent Men Become Leaders?</td>\n",
       "    </tr>\n",
       "    <tr>\n",
       "      <th>2</th>\n",
       "      <td>How to Write a Cover Letter</td>\n",
       "    </tr>\n",
       "    <tr>\n",
       "      <th>3</th>\n",
       "      <td>The Most Important Leadership Competencies, Ac...</td>\n",
       "    </tr>\n",
       "    <tr>\n",
       "      <th>4</th>\n",
       "      <td>What Is Disruptive Innovation?</td>\n",
       "    </tr>\n",
       "  </tbody>\n",
       "</table>\n",
       "</div>"
      ],
      "text/plain": [
       "                                         Clean Title\n",
       "0  What So Many People Don’t Get About the U.S. W...\n",
       "1     Why Do So Many Incompetent Men Become Leaders?\n",
       "2                        How to Write a Cover Letter\n",
       "3  The Most Important Leadership Competencies, Ac...\n",
       "4                     What Is Disruptive Innovation?"
      ]
     },
     "execution_count": 41,
     "metadata": {},
     "output_type": "execute_result"
    }
   ],
   "source": [
    "#Combine text fields for HBR headlines and social media\n",
    "\n",
    "tk = data['Clean Title']\n",
    "tk2 = social['Message']\n",
    "\n",
    "frames = [tk,tk2]\n",
    "\n",
    "result = pd.concat(frames)\n",
    "df = result.to_frame(name='Clean Title')\n",
    "print df.shape\n",
    "df.head()"
   ]
  },
  {
   "cell_type": "code",
   "execution_count": 42,
   "metadata": {},
   "outputs": [
    {
     "data": {
      "text/html": [
       "<div>\n",
       "<style>\n",
       "    .dataframe thead tr:only-child th {\n",
       "        text-align: right;\n",
       "    }\n",
       "\n",
       "    .dataframe thead th {\n",
       "        text-align: left;\n",
       "    }\n",
       "\n",
       "    .dataframe tbody tr th {\n",
       "        vertical-align: top;\n",
       "    }\n",
       "</style>\n",
       "<table border=\"1\" class=\"dataframe\">\n",
       "  <thead>\n",
       "    <tr style=\"text-align: right;\">\n",
       "      <th></th>\n",
       "      <th>Clean Title</th>\n",
       "    </tr>\n",
       "  </thead>\n",
       "  <tbody>\n",
       "    <tr>\n",
       "      <th>0</th>\n",
       "      <td>What So Many People Don’t Get About the U.S. W...</td>\n",
       "    </tr>\n",
       "    <tr>\n",
       "      <th>1</th>\n",
       "      <td>Why Do So Many Incompetent Men Become Leaders?</td>\n",
       "    </tr>\n",
       "    <tr>\n",
       "      <th>2</th>\n",
       "      <td>How to Write a Cover Letter</td>\n",
       "    </tr>\n",
       "    <tr>\n",
       "      <th>3</th>\n",
       "      <td>The Most Important Leadership Competencies, Ac...</td>\n",
       "    </tr>\n",
       "    <tr>\n",
       "      <th>4</th>\n",
       "      <td>What Is Disruptive Innovation?</td>\n",
       "    </tr>\n",
       "  </tbody>\n",
       "</table>\n",
       "</div>"
      ],
      "text/plain": [
       "                                         Clean Title\n",
       "0  What So Many People Don’t Get About the U.S. W...\n",
       "1     Why Do So Many Incompetent Men Become Leaders?\n",
       "2                        How to Write a Cover Letter\n",
       "3  The Most Important Leadership Competencies, Ac...\n",
       "4                     What Is Disruptive Innovation?"
      ]
     },
     "execution_count": 42,
     "metadata": {},
     "output_type": "execute_result"
    }
   ],
   "source": [
    "#Remove mentions of HBR\n",
    "df['Clean Title'] = df['Clean Title'].str.replace(' - HBR', '')\n",
    "df['Clean Title'] = df['Clean Title'].str.replace('HBR', '')\n",
    "\n",
    "#Remove mentions of research because the algorithm is being used to evaluate research\n",
    "df['Clean Title'] = df['Clean Title'].str.replace('Research', '')\n",
    "df['Clean Title'] = df['Clean Title'].str.replace('research', '')\n",
    "df.head()\n"
   ]
  },
  {
   "cell_type": "markdown",
   "metadata": {},
   "source": [
    "## Save the combined dataframe to csv"
   ]
  },
  {
   "cell_type": "code",
   "execution_count": 43,
   "metadata": {
    "collapsed": true
   },
   "outputs": [],
   "source": [
    "df['Clean Title'].to_csv(\"clean_headlines.csv\",header=True,index=False)"
   ]
  }
 ],
 "metadata": {
  "kernelspec": {
   "display_name": "Python 2",
   "language": "python",
   "name": "python2"
  },
  "language_info": {
   "codemirror_mode": {
    "name": "ipython",
    "version": 2
   },
   "file_extension": ".py",
   "mimetype": "text/x-python",
   "name": "python",
   "nbconvert_exporter": "python",
   "pygments_lexer": "ipython2",
   "version": "2.7.3"
  }
 },
 "nbformat": 4,
 "nbformat_minor": 2
}
