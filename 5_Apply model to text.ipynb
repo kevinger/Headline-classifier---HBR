{
 "cells": [
  {
   "cell_type": "code",
   "execution_count": 24,
   "metadata": {
    "collapsed": true
   },
   "outputs": [],
   "source": [
    "import pandas as pd\n",
    "from sklearn import linear_model\n",
    "from sklearn.externals import joblib\n",
    "from sklearn.feature_extraction.text import CountVectorizer"
   ]
  },
  {
   "cell_type": "code",
   "execution_count": 25,
   "metadata": {
    "collapsed": true
   },
   "outputs": [],
   "source": [
    "# Define a function to take text and score it using the model\n",
    "\n",
    "def predictor(text):\n",
    "    #Takes a string, returns prediction of whether it's HBR-relevant\n",
    "    pipeline = joblib.load('hbr_pipeline.pkl')\n",
    "    pipeline2 = joblib.load('hbr_biz_pipeline.pkl')\n",
    "    return pipeline.predict(pd.Series([text]))[0], pipeline2.predict(pd.Series([text]))[0]\n",
    "    "
   ]
  },
  {
   "cell_type": "code",
   "execution_count": 26,
   "metadata": {},
   "outputs": [
    {
     "data": {
      "text/plain": [
       "('Yes', 'Yes')"
      ]
     },
     "execution_count": 26,
     "metadata": {},
     "output_type": "execute_result"
    }
   ],
   "source": [
    "#Try any text and see what the model says\n",
    "tk = 'Tesla is having major supply chain problems'\n",
    "predictor(tk)"
   ]
  },
  {
   "cell_type": "code",
   "execution_count": 32,
   "metadata": {},
   "outputs": [
    {
     "name": "stdout",
     "output_type": "stream",
     "text": [
      "('No', 'Yes'): Urgent Care Centers and the Demand for Non-Emergent Emergency Department Visits -- by Lindsay Allen, Janet R. Cummings, Jason Hockenberry\n",
      "('Yes', 'Yes'): Does Scientific Progress Affect Culture? A Digital Text Analysis -- by Michela Giorcelli, Nicola Lacetera, Astrid Marinoni\n",
      "('No', 'No'): Folklore -- by Stelios Michalopoulos, Melanie Meng Xue\n",
      "('Yes', 'No'): On the Controversies behind the Origins of the Federal Economic Statistics -- by Hugh Rockoff\n",
      "('Yes', 'Yes'): Do Innovation Subsidies Make Chinese Firms More Innovative? Evidence from the China Employer Employee Survey -- by Hong Cheng, Hanbing Fan, Takeo Hoshi, Dezhuang Hu\n",
      "('No', 'No'): Volatility and Informativeness -- by Eduardo Davila, Cecilia Parlatore\n",
      "('No', 'No'): The Effect of Minimum Wages on Low-Wage Jobs: Evidence from the United States Using a Bunching Estimator -- by Doruk Cengiz, Arindrajit Dube, Attila Lindner, Ben Zipperer\n",
      "('Yes', 'Yes'): Do Firms Respond to Gender Pay Gap Transparency? -- by Morten Bennedsen, Elena Simintzi, Margarita Tsoutsoura, Daniel Wolfenzon\n",
      "('Yes', 'Yes'): Retirement Choices by State and Local Public Sector Employees: The Role of Eligibility and Financial Incentives -- by Leslie E. Papke\n",
      "('No', 'No'): Why Has China Overinvested in Coal Power? -- by Mengjia Ren, Lee G. Branstetter, Brian K. Kovak, Daniel E. Armanios, Jiahai Yuan\n",
      "('Yes', 'Yes'): From Immigrants to Robots: The Changing Locus of Substitutes for Workers -- by George J. Borjas, Richard B. Freeman\n",
      "('Yes', 'Yes'): Agent Orange: Trump, Soft Power, and Exports -- by Andrew K. Rose\n",
      "('No', 'No'): Heterogeneity, Measurement Error and Misallocation: Evidence from African Agriculture -- by Douglas Gollin, Christopher R. Udry\n",
      "('Yes', 'Yes'): The Origins of Firm Heterogeneity: A Production Network Approach -- by Andrew B. Bernard, Emmanuel Dhyne, Glenn Magerman, Kalina Manova, Andreas Moxnes\n",
      "('No', 'No'): Capitalists in the Twenty-First Century -- by Matthew Smith, Danny Yagan, Owen M. Zidar, Eric Zwick\n",
      "('No', 'Yes'): The Fine Print in Smart Contracts -- by Joshua S. Gans\n",
      "('Yes', 'Yes'): Variation in Women's Success Across PhD Programs in Economics -- by Leah Platt Boustan, Andrew Langan\n",
      "('No', 'Yes'): The Fiscal Theory of the Price Level in Overlapping Generations Models -- by Roger E.A. Farmer, Pawel Zabczyk\n",
      "('No', 'No'): Tweet Sixteen and Pregnant: Missing Links in the Causal Chain from Reality TV to Fertility -- by David A. Jaeger, Theodore J. Joyce, Robert Kaestner\n",
      "('No', 'No'): Spatial Correlation, Trade, and Inequality: Evidence from the Global Climate -- by Jonathan I. Dingel, Kyle C. Meng, Solomon M. Hsiang\n",
      "('No', 'No'): Heterogeneous Households under Uncertainty -- by Pietro Veronesi\n",
      "('No', 'No'): Currency Factors -- by Arash Aloosh, Geert Bekaert\n",
      "('No', 'No'): The Insurance is the Lemon: Failing to Index Contracts -- by Barney Hartman-Glaser, Benjamin M. Hebert\n",
      "('Yes', 'No'): 1930: First Modern Crisis -- by Gary Gorton, Toomas Laarits, Tyler Muir\n",
      "('No', 'No'): Infringing Use as a Path to Legal Consumption: Evidence from a Field Experiment -- by Hong Luo, Julie Holland Mortimer\n",
      "('No', 'Yes'): Common Ownership in America: 1980-2017 -- by Matthew Backus, Christopher Conlon, Michael Sinkinson\n"
     ]
    }
   ],
   "source": [
    "#Categorize results form an RSS feed as HBR-relevant or not\n",
    "\n",
    "import feedparser\n",
    "feed = 'http://www.nber.org/rss/new.xml'\n",
    "#feed = 'http://feeds.hbr.org/harvardbusiness'\n",
    "#feed = 'https://news.ycombinator.com/rss'\n",
    "#feed = 'https://theconversation.com/us/articles.atom'\n",
    "feed = feedparser.parse(feed)\n",
    "for a in feed.entries:\n",
    "    title = a.title\n",
    "    print str(predictor(title)) + \": \" + title"
   ]
  }
 ],
 "metadata": {
  "kernelspec": {
   "display_name": "Python 2",
   "language": "python",
   "name": "python2"
  },
  "language_info": {
   "codemirror_mode": {
    "name": "ipython",
    "version": 2
   },
   "file_extension": ".py",
   "mimetype": "text/x-python",
   "name": "python",
   "nbconvert_exporter": "python",
   "pygments_lexer": "ipython2",
   "version": "2.7.3"
  }
 },
 "nbformat": 4,
 "nbformat_minor": 2
}
