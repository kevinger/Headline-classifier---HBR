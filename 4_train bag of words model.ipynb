{
 "cells": [
  {
   "cell_type": "code",
   "execution_count": 200,
   "metadata": {
    "collapsed": true
   },
   "outputs": [],
   "source": [
    "import pandas as pd\n",
    "import numpy as np\n",
    "from sklearn.feature_extraction.text import CountVectorizer\n",
    "from sklearn.feature_extraction.text import TfidfTransformer\n",
    "from sklearn import linear_model\n",
    "from sklearn.metrics import accuracy_score\n",
    "import pickle\n",
    "from sklearn.pipeline import Pipeline"
   ]
  },
  {
   "cell_type": "markdown",
   "metadata": {},
   "source": [
    "## Load data and split into train/test"
   ]
  },
  {
   "cell_type": "code",
   "execution_count": 201,
   "metadata": {},
   "outputs": [
    {
     "name": "stdout",
     "output_type": "stream",
     "text": [
      "(29480, 2)\n",
      "                                                 Headline    HBR\n",
      "count                                               29480  29480\n",
      "unique                                              28918      2\n",
      "top     The article requested cannot be found! Please ...     No\n",
      "freq                                                    7  15000\n"
     ]
    },
    {
     "data": {
      "text/html": [
       "<div>\n",
       "<style>\n",
       "    .dataframe thead tr:only-child th {\n",
       "        text-align: right;\n",
       "    }\n",
       "\n",
       "    .dataframe thead th {\n",
       "        text-align: left;\n",
       "    }\n",
       "\n",
       "    .dataframe tbody tr th {\n",
       "        vertical-align: top;\n",
       "    }\n",
       "</style>\n",
       "<table border=\"1\" class=\"dataframe\">\n",
       "  <thead>\n",
       "    <tr style=\"text-align: right;\">\n",
       "      <th></th>\n",
       "      <th>Headline</th>\n",
       "      <th>HBR</th>\n",
       "    </tr>\n",
       "  </thead>\n",
       "  <tbody>\n",
       "    <tr>\n",
       "      <th>0</th>\n",
       "      <td>What So Many People Don’t Get About the U.S. W...</td>\n",
       "      <td>Yes</td>\n",
       "    </tr>\n",
       "    <tr>\n",
       "      <th>1</th>\n",
       "      <td>Why Do So Many Incompetent Men Become Leaders?</td>\n",
       "      <td>Yes</td>\n",
       "    </tr>\n",
       "    <tr>\n",
       "      <th>2</th>\n",
       "      <td>How to Write a Cover Letter</td>\n",
       "      <td>Yes</td>\n",
       "    </tr>\n",
       "    <tr>\n",
       "      <th>3</th>\n",
       "      <td>The Most Important Leadership Competencies, Ac...</td>\n",
       "      <td>Yes</td>\n",
       "    </tr>\n",
       "    <tr>\n",
       "      <th>4</th>\n",
       "      <td>What Is Disruptive Innovation?</td>\n",
       "      <td>Yes</td>\n",
       "    </tr>\n",
       "  </tbody>\n",
       "</table>\n",
       "</div>"
      ],
      "text/plain": [
       "                                            Headline  HBR\n",
       "0  What So Many People Don’t Get About the U.S. W...  Yes\n",
       "1     Why Do So Many Incompetent Men Become Leaders?  Yes\n",
       "2                        How to Write a Cover Letter  Yes\n",
       "3  The Most Important Leadership Competencies, Ac...  Yes\n",
       "4                     What Is Disruptive Innovation?  Yes"
      ]
     },
     "execution_count": 201,
     "metadata": {},
     "output_type": "execute_result"
    }
   ],
   "source": [
    "#Load and check data\n",
    "heds = pd.read_csv(\"combined_headlines.csv\")\n",
    "print heds.shape\n",
    "print heds.describe()\n",
    "heds.head()"
   ]
  },
  {
   "cell_type": "code",
   "execution_count": 202,
   "metadata": {},
   "outputs": [
    {
     "name": "stdout",
     "output_type": "stream",
     "text": [
      "Train shape:\n",
      "(20636, 2)\n",
      "Test shape\n",
      "(8844, 2)\n"
     ]
    }
   ],
   "source": [
    "#Split data into train/test\n",
    "train = heds.sample(frac=0.7, random_state=1)\n",
    "test = heds.loc[~heds.index.isin(train.index)]\n",
    "\n",
    "print \"Train shape:\"\n",
    "print train.shape\n",
    "print \"Test shape\"\n",
    "print test.shape"
   ]
  },
  {
   "cell_type": "markdown",
   "metadata": {},
   "source": [
    "## Vectorize and train model"
   ]
  },
  {
   "cell_type": "code",
   "execution_count": 203,
   "metadata": {},
   "outputs": [
    {
     "name": "stdout",
     "output_type": "stream",
     "text": [
      "(20636, 1000)\n",
      "(8844, 1000)\n"
     ]
    }
   ],
   "source": [
    "#Vectorize data\n",
    "\n",
    "#Initialize countvectorizer and fit to headlines\n",
    "vectorizer = CountVectorizer(analyzer='word',\n",
    "                             stop_words = 'english',\n",
    "                             ngram_range=(1,2),\n",
    "                             max_features=1000)\n",
    "\n",
    "train_counts = vectorizer.fit_transform(train['Headline'])\n",
    "test_counts = vectorizer.transform(test['Headline'])\n",
    "\n",
    "#Initialize tfidf transformer and fit to counts\n",
    "tfidf_transformer = TfidfTransformer()\n",
    "train_tfidf = tfidf_transformer.fit_transform(train_counts)\n",
    "print train_tfidf.shape\n",
    "\n",
    "test_tfidf = tfidf_transformer.transform(test_counts)\n",
    "print test_tfidf.shape"
   ]
  },
  {
   "cell_type": "code",
   "execution_count": 204,
   "metadata": {},
   "outputs": [
    {
     "name": "stdout",
     "output_type": "stream",
     "text": [
      "       HBR                                           Headline Prediction\n",
      "25663   No  BWW Asks: Who Would You Cast in FOX's Live Bro...         No\n",
      "24051   No    Megan Fox Finds Being a Working Mom 'Consuming'         No\n",
      "5113   Yes  Grit predicts who will accomplish challenging ...        Yes\n",
      "28759   No  Dozens of Avicii concertgoers rushed to hospit...         No\n",
      "12109  Yes  We all have the potential to be curious, given...        Yes\n",
      "14018  Yes      It's the little things that persuade. Listen:        Yes\n",
      "2512   Yes  How to Raise Sensitive Issues During a Virtual...        Yes\n",
      "13782  Yes  Do you really know how to best interact with y...        Yes\n",
      "27697   No  Euro Near Three-Month Low as Volatility Surges...         No\n",
      "17286   No  Avicii hospitalized; Deadmau5 will fill in at ...         No\n",
      "28875   No                                   R,G and all that         No\n",
      "2447   Yes              More Universities Need to Teach Sales        Yes\n",
      "14952   No                      Well, beam me up Seanie . . .         No\n",
      "22599   No  'The Purge: Anarchy' Review: 10 Things You Nee...         No\n",
      "29424   No  House prices increasingly strong - up 6.8% in ...         No\n",
      "22076   No  Congress Steps In To Investigate General Motor...         No\n",
      "22446   No  Detroit makes deal with retired cops, firefigh...         No\n",
      "16741   No  Édgar Ramirez talks about making 'Deliver Us f...         No\n",
      "28491   No  Technology stocks lead an early decline in Wal...         No\n",
      "27560   No  Toyota to pay $1.2 billion federal fine to set...         No\n",
      "21491   No  Can AIDS Be Brought Under Control by 2030? Uni...        Yes\n",
      "292    Yes   4 Ways to Control Your Emotions in Tense Moments        Yes\n",
      "1408   Yes                   Where Will You Be in Five Years?         No\n",
      "29418   No    Comcast issues apology after viral service call         No\n",
      "1353   Yes  Isolate Toxic Employees to Reduce Their Negati...        Yes\n",
      "24720   No    Spring is almost here! Vernal Equinox explained         No\n",
      "15250   No  Mad Men review: Are you there, vodka? It's me,...         No\n",
      "26010   No        Protein may hold key to Alzheimer's disease         No\n",
      "11813  Yes  Authenticity—defined as “the degree to which o...         No\n",
      "5834   Yes  On the latest episode of ’s advice podcast, we...        Yes\n",
      "\n",
      "The accuracy of the model on the training set is:\n",
      "0.9135006784260515\n"
     ]
    }
   ],
   "source": [
    "#Train and evaluate linear model\n",
    "\n",
    "#Train logistic regression model on training set\n",
    "logit = linear_model.LogisticRegression(penalty='l1',C=1)\n",
    "logit = logit.fit(train_tfidf,train['HBR'])\n",
    "\n",
    "#Evaluate training performance\n",
    "logit_train_results = logit.predict(train_tfidf)\n",
    "train_output = pd.DataFrame(data={\"Headline\":train['Headline'],\n",
    "                                 \"HBR\":train[\"HBR\"],\n",
    "                                 \"Prediction\":logit_train_results})\n",
    "print train_output.head(30)\n",
    "\n",
    "print \"\\nThe accuracy of the model on the training set is:\"\n",
    "print accuracy_score(train_output['HBR'],train_output['Prediction'])"
   ]
  },
  {
   "cell_type": "code",
   "execution_count": 205,
   "metadata": {},
   "outputs": [
    {
     "name": "stdout",
     "output_type": "stream",
     "text": [
      "    HBR                                           Headline Prediction\n",
      "1   Yes     Why Do So Many Incompetent Men Become Leaders?        Yes\n",
      "9   Yes              The Best-Performing CEOs in the World        Yes\n",
      "10  Yes                  How to Give a Killer Presentation         No\n",
      "14  Yes  Resilience Is About How You Recharge, Not How ...        Yes\n",
      "15  Yes                          How Netflix Reinvented HR        Yes\n",
      "18  Yes           Why the Lean Start-Up Changes Everything        Yes\n",
      "20  Yes  What Is Organizational Culture? And Why Should...        Yes\n",
      "25  Yes  High-Performing Teams Need Psychological Safet...        Yes\n",
      "27  Yes    Why Some People Get Burned Out and Others Don’t        Yes\n",
      "29  Yes  Uber Can’t Be Fixed — It’s Time for Regulators...        Yes\n",
      "30  Yes             How to Design a Winning Business Model        Yes\n",
      "31  Yes         Why You Should Have (at Least) Two Careers        Yes\n",
      "41  Yes  Proof That Positive Work Cultures Are More Pro...        Yes\n",
      "42  Yes                          What Is a Business Model?        Yes\n",
      "47  Yes  Why I Tell My MBA Students to Stop Looking for...        Yes\n",
      "48  Yes  Ask Your Employees These Questions. They Will ...        Yes\n",
      "51  Yes                  The Future of Performance Reviews        Yes\n",
      "52  Yes  Why Your Late Twenties Is the Worst Time of Yo...         No\n",
      "54  Yes                     What VUCA Really Means for You        Yes\n",
      "59  Yes      What Having a “Growth Mindset” Actually Means        Yes\n",
      "61  Yes                                    Embracing Agile        Yes\n",
      "62  Yes  Emotional Intelligence Has 12 Elements. Which ...        Yes\n",
      "64  Yes  7 Things to Say When a Conversation Turns Nega...        Yes\n",
      "68  Yes    Where the Digital Economy Is Moving the Fastest        Yes\n",
      "71  Yes            How to Write the Dreaded Self-Appraisal        Yes\n",
      "73  Yes    The Most (and Least) Empathetic Companies, 2016        Yes\n",
      "76  Yes  How to Disagree with Someone More Powerful tha...        Yes\n",
      "78  Yes                     Why Most Product Launches Fail         No\n",
      "80  Yes                The Truth About Customer Experience        Yes\n",
      "87  Yes                      Why Organizations Don’t Learn        Yes\n",
      "\n",
      "The accuracy of the model on the test set is:\n",
      "0.8983491632745364\n"
     ]
    }
   ],
   "source": [
    "#Make predictions against test data and assess performance\n",
    "logit_test_results = logit.predict(test_tfidf)\n",
    "test_output = pd.DataFrame(data={\"Headline\":test['Headline'],\n",
    "                                 \"HBR\":test[\"HBR\"],\n",
    "                                 \"Prediction\":logit_test_results})\n",
    "print test_output.head(30)\n",
    "\n",
    "print \"\\nThe accuracy of the model on the test set is:\"\n",
    "print accuracy_score(test_output['HBR'],test_output['Prediction'])"
   ]
  },
  {
   "cell_type": "markdown",
   "metadata": {},
   "source": [
    "## Save the trained model"
   ]
  },
  {
   "cell_type": "code",
   "execution_count": 206,
   "metadata": {
    "collapsed": true
   },
   "outputs": [],
   "source": [
    "with open('hbr_logit.pkl','wb') as f:\n",
    "    pickle.dump(logit,f)"
   ]
  },
  {
   "cell_type": "code",
   "execution_count": 207,
   "metadata": {},
   "outputs": [
    {
     "name": "stdout",
     "output_type": "stream",
     "text": [
      "Yes\n"
     ]
    }
   ],
   "source": [
    "#Turn text into dataframe to test\n",
    "text = \"How to manage a company\"   \n",
    "text = [text]\n",
    "df = pd.DataFrame(text,columns =['text'])    \n",
    "    \n",
    "#Vectorize text\n",
    "tk_features = vectorizer.transform(df['text'])\n",
    "tk_features = tfidf_transformer.transform(tk_features)\n",
    "    \n",
    "#Return prediction\n",
    "result = logit.predict(tk_features)\n",
    "print result[0]"
   ]
  },
  {
   "cell_type": "markdown",
   "metadata": {},
   "source": [
    "## Redo the same process, but using a pipeline"
   ]
  },
  {
   "cell_type": "code",
   "execution_count": 208,
   "metadata": {},
   "outputs": [
    {
     "name": "stdout",
     "output_type": "stream",
     "text": [
      "    HBR                                           Headline Prediction\n",
      "1   Yes     Why Do So Many Incompetent Men Become Leaders?        Yes\n",
      "9   Yes              The Best-Performing CEOs in the World        Yes\n",
      "10  Yes                  How to Give a Killer Presentation         No\n",
      "14  Yes  Resilience Is About How You Recharge, Not How ...        Yes\n",
      "15  Yes                          How Netflix Reinvented HR        Yes\n",
      "18  Yes           Why the Lean Start-Up Changes Everything        Yes\n",
      "20  Yes  What Is Organizational Culture? And Why Should...        Yes\n",
      "25  Yes  High-Performing Teams Need Psychological Safet...        Yes\n",
      "27  Yes    Why Some People Get Burned Out and Others Don’t        Yes\n",
      "29  Yes  Uber Can’t Be Fixed — It’s Time for Regulators...        Yes\n",
      "30  Yes             How to Design a Winning Business Model        Yes\n",
      "31  Yes         Why You Should Have (at Least) Two Careers        Yes\n",
      "41  Yes  Proof That Positive Work Cultures Are More Pro...        Yes\n",
      "42  Yes                          What Is a Business Model?        Yes\n",
      "47  Yes  Why I Tell My MBA Students to Stop Looking for...        Yes\n",
      "48  Yes  Ask Your Employees These Questions. They Will ...        Yes\n",
      "51  Yes                  The Future of Performance Reviews        Yes\n",
      "52  Yes  Why Your Late Twenties Is the Worst Time of Yo...         No\n",
      "54  Yes                     What VUCA Really Means for You        Yes\n",
      "59  Yes      What Having a “Growth Mindset” Actually Means        Yes\n",
      "61  Yes                                    Embracing Agile        Yes\n",
      "62  Yes  Emotional Intelligence Has 12 Elements. Which ...        Yes\n",
      "64  Yes  7 Things to Say When a Conversation Turns Nega...        Yes\n",
      "68  Yes    Where the Digital Economy Is Moving the Fastest        Yes\n",
      "71  Yes            How to Write the Dreaded Self-Appraisal        Yes\n",
      "73  Yes    The Most (and Least) Empathetic Companies, 2016        Yes\n",
      "76  Yes  How to Disagree with Someone More Powerful tha...        Yes\n",
      "78  Yes                     Why Most Product Launches Fail         No\n",
      "80  Yes                The Truth About Customer Experience        Yes\n",
      "87  Yes                      Why Organizations Don’t Learn        Yes\n",
      "\n",
      "The accuracy of the model on the test set is:\n",
      "0.8983491632745364\n"
     ]
    }
   ],
   "source": [
    "#Pipeline makes it easier to vectorize new data later on -- to save the vectorizer along with the model\n",
    "\n",
    "vect = CountVectorizer(analyzer='word',\n",
    "                             stop_words = 'english',\n",
    "                             ngram_range=(1,2),\n",
    "                             max_features=1000)\n",
    "\n",
    "#Define pipeline with countvectorizer, tfidftransformer, and logit model\n",
    "test_pipe = Pipeline([\n",
    "     ('vectorizer', vect),\n",
    "     ('tfidf', TfidfTransformer()),\n",
    "     ('logit', linear_model.LogisticRegression(penalty='l1',C=1))\n",
    " ])\n",
    "\n",
    "#Fit logistic regression model with training data\n",
    "test_pipe.fit(train['Headline'], train[\"HBR\"]) \n",
    "\n",
    "#Make predictions against test data and assess performance\n",
    "predictions = test_pipe.predict(test['Headline'])\n",
    "test_output = pd.DataFrame(data={\"Headline\":test['Headline'],\n",
    "                                 \"HBR\":test[\"HBR\"],\n",
    "                                 \"Prediction\":predictions})\n",
    "print test_output.head(30)\n",
    "\n",
    "print \"\\nThe accuracy of the model on the test set is:\"\n",
    "print accuracy_score(test_output['HBR'],test_output['Prediction'])\n"
   ]
  },
  {
   "cell_type": "code",
   "execution_count": 209,
   "metadata": {},
   "outputs": [
    {
     "name": "stdout",
     "output_type": "stream",
     "text": [
      "Smallest Coefs: \n",
      "[u'stocks' u'2014' u'heartbleed' u'announces' u'galaxy' u'miley' u'gm'\n",
      " u'comcast' u'mers' u'tv' u'movie' u'says' u'report' u'fed' u'ebola'\n",
      " u'cancer' u'android' u'debut' u'video' u'box office' u'blood' u'trailer'\n",
      " u'easter' u'million' u'kim' u'dies' u'ecb' u'bieber' u'update'\n",
      " u'kardashian' u'film' u'samsung' u'ipad' u'chris' u'facebook' u'xbox'\n",
      " u'beyonce' u'awards' u'king' u'yellen' u'disease' u'euro' u'fda' u'mad'\n",
      " u'microsoft' u'july' u'smartphone' u'sony' u'thrones' u'google' u'htc'\n",
      " u'noah' u'west' u'release' u'launches' u'windows' u'recap' u'robin'\n",
      " u'recalls' u'adds' u'nasa' u'ford' u'usd' u'apple' u'selena' u'review'\n",
      " u'mars' u'virus' u'lohan' u'transformers' u'jay' u'earth' u'plane'\n",
      " u'wedding' u'star' u'bank' u'ice' u'talks' u'reportedly' u'cast'\n",
      " u'mother' u'ban' u'gas' u'photo' u'teen' u'ryan' u'need know' u'twitter'\n",
      " u'buys' u'revealed' u'march' u'app' u'man' u'hbo' u'allergan' u'arrested'\n",
      " u'uk' u'court' u'drug' u'scientists']\n",
      "\n",
      "Largest Coefs: \n",
      "[u'trib' u'archive' u'work' u'managers' u'innovation' u'leaders'\n",
      " u'leadership' u'strategy' u'ceos' u'important' u'boss' u'companies'\n",
      " u'learning' u'strategic' u'workplace' u'teams' u'ideas' u'entrepreneurs'\n",
      " u'difference' u'feedback' u'employees' u'corporate' u'blockchain'\n",
      " u'resilience' u'job' u'decisions' u'answer' u'meetings' u'strategies'\n",
      " u'productive' u'learn' u'organization' u'company' u'countries' u'ways'\n",
      " u'goals' u'management' u'people' u'productivity' u'successful'\n",
      " u'executives' u'think' u'technology' u'ai' u'trib al' u'need'\n",
      " u'creativity' u'leader' u'attention' u'salespeople' u'behavior' u'hr'\n",
      " u'startups' u'professional' u'talent' u'managing' u'organizations'\n",
      " u'care' u'bias' u'feel' u'questions' u'don' u'contest' u'creating'\n",
      " u'experience' u'women' u'succeed' u'career' u'customer' u'instead'\n",
      " u'digital' u'advice' u'keeping' u'outcomes' u'value' u'team' u'manager'\n",
      " u'mindfulness' u'analytics' u'problem' u'help' u'business' u'marketing'\n",
      " u'skills' u'thinking' u'customers' u'employee' u'cultures'\n",
      " u'organizational' u'trust' u'diversity' u'understanding' u'classic'\n",
      " u'ones' u'avoid' u'approach' u'learned' u'success' u'harassment'\n",
      " u'really']\n",
      "\n"
     ]
    }
   ],
   "source": [
    "#Print the features with the lowest and highest coefficients\n",
    "feature_names = np.array(vect.get_feature_names())\n",
    "\n",
    "sorted_coef_index = logit.coef_[0].argsort()\n",
    "print('Smallest Coefs: \\n{}\\n'.format(feature_names[sorted_coef_index[:100]]))\n",
    "print('Largest Coefs: \\n{}\\n'.format(feature_names[sorted_coef_index[:-101:-1]]))\n"
   ]
  },
  {
   "cell_type": "code",
   "execution_count": 210,
   "metadata": {},
   "outputs": [
    {
     "name": "stdout",
     "output_type": "stream",
     "text": [
      "<type 'list'>\n",
      "<class 'pandas.core.series.Series'>\n",
      "['Yes']\n"
     ]
    }
   ],
   "source": [
    "#Test new text (defined above) with fitted model\n",
    "\n",
    "print type(text)\n",
    "print type(test['Headline'])\n",
    "\n",
    "print test_pipe.predict(pd.Series(text))"
   ]
  },
  {
   "cell_type": "code",
   "execution_count": 211,
   "metadata": {
    "collapsed": true
   },
   "outputs": [],
   "source": [
    "#Save pipeline for later\n",
    "\n",
    "with open('hbr_pipeline.pkl','wb') as f:\n",
    "    pickle.dump(test_pipe,f)"
   ]
  },
  {
   "cell_type": "markdown",
   "metadata": {},
   "source": [
    "# Repeat pipeline building and training with business heds only"
   ]
  },
  {
   "cell_type": "code",
   "execution_count": 212,
   "metadata": {},
   "outputs": [
    {
     "name": "stdout",
     "output_type": "stream",
     "text": [
      "(29480, 2)\n",
      "                   Headline    HBR\n",
      "count                 29480  29480\n",
      "unique                28854      2\n",
      "top     Posted by Imaduddin     No\n",
      "freq                     10  15000\n"
     ]
    },
    {
     "data": {
      "text/html": [
       "<div>\n",
       "<style>\n",
       "    .dataframe thead tr:only-child th {\n",
       "        text-align: right;\n",
       "    }\n",
       "\n",
       "    .dataframe thead th {\n",
       "        text-align: left;\n",
       "    }\n",
       "\n",
       "    .dataframe tbody tr th {\n",
       "        vertical-align: top;\n",
       "    }\n",
       "</style>\n",
       "<table border=\"1\" class=\"dataframe\">\n",
       "  <thead>\n",
       "    <tr style=\"text-align: right;\">\n",
       "      <th></th>\n",
       "      <th>Headline</th>\n",
       "      <th>HBR</th>\n",
       "    </tr>\n",
       "  </thead>\n",
       "  <tbody>\n",
       "    <tr>\n",
       "      <th>0</th>\n",
       "      <td>What So Many People Don’t Get About the U.S. W...</td>\n",
       "      <td>Yes</td>\n",
       "    </tr>\n",
       "    <tr>\n",
       "      <th>1</th>\n",
       "      <td>Why Do So Many Incompetent Men Become Leaders?</td>\n",
       "      <td>Yes</td>\n",
       "    </tr>\n",
       "    <tr>\n",
       "      <th>2</th>\n",
       "      <td>How to Write a Cover Letter</td>\n",
       "      <td>Yes</td>\n",
       "    </tr>\n",
       "    <tr>\n",
       "      <th>3</th>\n",
       "      <td>The Most Important Leadership Competencies, Ac...</td>\n",
       "      <td>Yes</td>\n",
       "    </tr>\n",
       "    <tr>\n",
       "      <th>4</th>\n",
       "      <td>What Is Disruptive Innovation?</td>\n",
       "      <td>Yes</td>\n",
       "    </tr>\n",
       "  </tbody>\n",
       "</table>\n",
       "</div>"
      ],
      "text/plain": [
       "                                            Headline  HBR\n",
       "0  What So Many People Don’t Get About the U.S. W...  Yes\n",
       "1     Why Do So Many Incompetent Men Become Leaders?  Yes\n",
       "2                        How to Write a Cover Letter  Yes\n",
       "3  The Most Important Leadership Competencies, Ac...  Yes\n",
       "4                     What Is Disruptive Innovation?  Yes"
      ]
     },
     "execution_count": 212,
     "metadata": {},
     "output_type": "execute_result"
    }
   ],
   "source": [
    "#Load and check data\n",
    "heds = pd.read_csv(\"combined_biz_headlines.csv\")\n",
    "print heds.shape\n",
    "print heds.describe()\n",
    "heds.head()"
   ]
  },
  {
   "cell_type": "code",
   "execution_count": 213,
   "metadata": {},
   "outputs": [
    {
     "name": "stdout",
     "output_type": "stream",
     "text": [
      "Train shape:\n",
      "(20636, 2)\n",
      "Test shape\n",
      "(8844, 2)\n"
     ]
    }
   ],
   "source": [
    "#Split data into train/test\n",
    "train = heds.sample(frac=0.7, random_state=1)\n",
    "test = heds.loc[~heds.index.isin(train.index)]\n",
    "\n",
    "print \"Train shape:\"\n",
    "print train.shape\n",
    "print \"Test shape\"\n",
    "print test.shape"
   ]
  },
  {
   "cell_type": "code",
   "execution_count": 214,
   "metadata": {},
   "outputs": [
    {
     "name": "stdout",
     "output_type": "stream",
     "text": [
      "    HBR                                           Headline Prediction\n",
      "1   Yes     Why Do So Many Incompetent Men Become Leaders?        Yes\n",
      "9   Yes              The Best-Performing CEOs in the World        Yes\n",
      "10  Yes                  How to Give a Killer Presentation         No\n",
      "14  Yes  Resilience Is About How You Recharge, Not How ...        Yes\n",
      "15  Yes                          How Netflix Reinvented HR        Yes\n",
      "18  Yes           Why the Lean Start-Up Changes Everything        Yes\n",
      "20  Yes  What Is Organizational Culture? And Why Should...        Yes\n",
      "25  Yes  High-Performing Teams Need Psychological Safet...        Yes\n",
      "27  Yes    Why Some People Get Burned Out and Others Don’t        Yes\n",
      "29  Yes  Uber Can’t Be Fixed — It’s Time for Regulators...         No\n",
      "30  Yes             How to Design a Winning Business Model        Yes\n",
      "31  Yes         Why You Should Have (at Least) Two Careers        Yes\n",
      "41  Yes  Proof That Positive Work Cultures Are More Pro...        Yes\n",
      "42  Yes                          What Is a Business Model?        Yes\n",
      "47  Yes  Why I Tell My MBA Students to Stop Looking for...        Yes\n",
      "48  Yes  Ask Your Employees These Questions. They Will ...        Yes\n",
      "51  Yes                  The Future of Performance Reviews        Yes\n",
      "52  Yes  Why Your Late Twenties Is the Worst Time of Yo...        Yes\n",
      "54  Yes                     What VUCA Really Means for You        Yes\n",
      "59  Yes      What Having a “Growth Mindset” Actually Means        Yes\n",
      "61  Yes                                    Embracing Agile         No\n",
      "62  Yes  Emotional Intelligence Has 12 Elements. Which ...        Yes\n",
      "64  Yes  7 Things to Say When a Conversation Turns Nega...        Yes\n",
      "68  Yes    Where the Digital Economy Is Moving the Fastest        Yes\n",
      "71  Yes            How to Write the Dreaded Self-Appraisal        Yes\n",
      "73  Yes    The Most (and Least) Empathetic Companies, 2016        Yes\n",
      "76  Yes  How to Disagree with Someone More Powerful tha...        Yes\n",
      "78  Yes                     Why Most Product Launches Fail        Yes\n",
      "80  Yes                The Truth About Customer Experience        Yes\n",
      "87  Yes                      Why Organizations Don’t Learn        Yes\n",
      "\n",
      "The accuracy of the model on the test set is:\n",
      "0.9139529624604251\n"
     ]
    }
   ],
   "source": [
    "#Pipeline makes it easier to vectorize new data later on -- to save the vectorizer along with the model\n",
    "\n",
    "vect = CountVectorizer(analyzer='word',\n",
    "                             stop_words = 'english',\n",
    "                             ngram_range=(1,2),\n",
    "                             max_features=1000)\n",
    "\n",
    "#Define pipeline with countvectorizer, tfidftransformer, and logit model\n",
    "test_pipe = Pipeline([\n",
    "     ('vectorizer', vect),\n",
    "     ('tfidf', TfidfTransformer()),\n",
    "     ('logit', linear_model.LogisticRegression(penalty='l1',C=1))\n",
    " ])\n",
    "\n",
    "#Fit logistic regression model with training data\n",
    "test_pipe.fit(train['Headline'], train[\"HBR\"]) \n",
    "\n",
    "#Make predictions against test data and assess performance\n",
    "predictions = test_pipe.predict(test['Headline'])\n",
    "test_output = pd.DataFrame(data={\"Headline\":test['Headline'],\n",
    "                                 \"HBR\":test[\"HBR\"],\n",
    "                                 \"Prediction\":predictions})\n",
    "print test_output.head(30)\n",
    "\n",
    "print \"\\nThe accuracy of the model on the test set is:\"\n",
    "print accuracy_score(test_output['HBR'],test_output['Prediction'])\n"
   ]
  },
  {
   "cell_type": "code",
   "execution_count": 215,
   "metadata": {},
   "outputs": [
    {
     "name": "stdout",
     "output_type": "stream",
     "text": [
      "Smallest Coefs: \n",
      "[u'stories' u'17' u'government' u'america' u'finally' u'mean' u'forex'\n",
      " u'class' u'mart' u'turkey' u'money' u'says' u'record' u'execution' u'dow'\n",
      " u'burger' u'amazon' u'cultures' u've' u'bnp' u'bid' u'trading' u'don'\n",
      " u'media' u'investors' u'dear' u'dow jones' u'behavior' u'unemployment'\n",
      " u'interview' u'experience' u'samsung' u'improve' u'change' u'episode'\n",
      " u'wrong' u'barclays' u'ask' u'irs' u'yellen' u'demand' u'emerging' u'ex'\n",
      " u'long' u'mcdonald' u'innovation' u'smart' u'south' u'time' u'futures'\n",
      " u'health care' u'net' u'way' u'recall' u'jobless claims' u'weekly'\n",
      " u'reaches' u'risks' u'rates' u'acquire' u'months' u'fears'\n",
      " u'unemployment rate' u'analysis' u'self' u'retail' u'makes' u'vietnam'\n",
      " u'learned' u'training' u'industry' u'doing' u'personal' u'waste'\n",
      " u'startup' u'avoid' u'hike' u'talk' u'recovery' u'candy' u'mobile'\n",
      " u'average' u'firms' u'people' u'technologies' u'safety' u'motors' u'turn'\n",
      " u'british' u'resilience' u'major' u'amid' u'lot' u'goals' u'ahead'\n",
      " u'apparel' u'uber' u'content' u'doctors' u'science']\n",
      "\n",
      "Largest Coefs: \n",
      "[u'travel' u'annual' u'worker' u'machine' u'http trib' u'jpmorgan' u'july'\n",
      " u'strike' u'car' u'hits' u'blackberry' u'coca' u'keeping' u'street'\n",
      " u'workplace' u'taxes' u'hiring' u'effect' u'debt' u'executive' u'ebay'\n",
      " u'confidence' u'biases' u'rejects' u'inequality' u'customer' u'american'\n",
      " u'manufacturing' u'stress' u'problems' u'june' u'ones' u'coca cola'\n",
      " u'consider' u'warner' u'fox' u'low' u'outlook' u'process' u'support'\n",
      " u'employers' u'things' u'tech' u'advice' u'trib' u'mortgage rates'\n",
      " u'corp' u'jones' u'argentina' u'salespeople' u'bank' u'health' u'step'\n",
      " u'productive' u'takes' u'machine learning' u'open' u'buy' u'based'\n",
      " u'executives' u'push' u'different' u'companies' u'control' u'energy'\n",
      " u'won' u'suisse' u'buying' u'crash' u'human' u'default' u'act' u'invest'\n",
      " u'opportunity' u'vacation' u'tax' u'lower' u'meeting' u'alstom' u'prices'\n",
      " u'great' u'brands' u'make sure' u'slips' u'think' u'create' u'easy'\n",
      " u'court' u'online' u'trump' u'despite' u'understand' u'chart' u'offer'\n",
      " u'asian' u'analyst' u'just' u'supply' u'getting' u'raise']\n",
      "\n"
     ]
    }
   ],
   "source": [
    "#Print the features with the lowest and highest coefficients\n",
    "feature_names = np.array(vect.get_feature_names())\n",
    "\n",
    "sorted_coef_index = logit.coef_[0].argsort()\n",
    "print('Smallest Coefs: \\n{}\\n'.format(feature_names[sorted_coef_index[:100]]))\n",
    "print('Largest Coefs: \\n{}\\n'.format(feature_names[sorted_coef_index[:-101:-1]]))\n"
   ]
  },
  {
   "cell_type": "code",
   "execution_count": 216,
   "metadata": {},
   "outputs": [
    {
     "name": "stdout",
     "output_type": "stream",
     "text": [
      "<type 'list'>\n",
      "<class 'pandas.core.series.Series'>\n",
      "['Yes']\n"
     ]
    }
   ],
   "source": [
    "#Test new text (defined above) with fitted model\n",
    "\n",
    "print type(text)\n",
    "print type(test['Headline'])\n",
    "\n",
    "print test_pipe.predict(pd.Series(text))"
   ]
  },
  {
   "cell_type": "code",
   "execution_count": 217,
   "metadata": {
    "collapsed": true
   },
   "outputs": [],
   "source": [
    "#Save pipeline for later\n",
    "\n",
    "with open('hbr_biz_pipeline.pkl','wb') as f:\n",
    "    pickle.dump(test_pipe,f)"
   ]
  }
 ],
 "metadata": {
  "kernelspec": {
   "display_name": "Python 2",
   "language": "python",
   "name": "python2"
  },
  "language_info": {
   "codemirror_mode": {
    "name": "ipython",
    "version": 2
   },
   "file_extension": ".py",
   "mimetype": "text/x-python",
   "name": "python",
   "nbconvert_exporter": "python",
   "pygments_lexer": "ipython2",
   "version": "2.7.3"
  }
 },
 "nbformat": 4,
 "nbformat_minor": 2
}
